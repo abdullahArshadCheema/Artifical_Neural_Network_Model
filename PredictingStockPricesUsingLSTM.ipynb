{
  "cells": [
    {
      "cell_type": "markdown",
      "metadata": {
        "id": "view-in-github",
        "colab_type": "text"
      },
      "source": [
        "<a href=\"https://colab.research.google.com/github/abdullahArshadCheema/Artifical_Neural_Network_Model/blob/main/PredictingStockPricesUsingLSTM.ipynb\" target=\"_parent\"><img src=\"https://colab.research.google.com/assets/colab-badge.svg\" alt=\"Open In Colab\"/></a>"
      ]
    },
    {
      "cell_type": "code",
      "execution_count": null,
      "metadata": {
        "colab": {
          "base_uri": "https://localhost:8080/",
          "height": 17
        },
        "id": "6De8Q6mcN_ox",
        "outputId": "184f4dd1-8a8f-46db-8a83-7690438dda5e"
      },
      "outputs": [
        {
          "output_type": "display_data",
          "data": {
            "text/plain": [
              "<IPython.core.display.HTML object>"
            ],
            "text/html": [
              "<style>.container { width:100% !important; }</style>"
            ]
          },
          "metadata": {}
        }
      ],
      "source": [
        "from IPython.core.display import display, HTML\n",
        "display(HTML(\"<style>.container { width:100% !important; }</style>\"))"
      ]
    },
    {
      "cell_type": "code",
      "execution_count": null,
      "metadata": {
        "id": "WIL_qlYUN_o2"
      },
      "outputs": [],
      "source": [
        "import numpy as np\n",
        "import matplotlib.pyplot as plt\n",
        "import pandas as pd\n",
        "import datetime\n",
        "from sklearn.preprocessing import MinMaxScaler\n",
        "import tensorflow as tf"
      ]
    },
    {
      "cell_type": "markdown",
      "metadata": {
        "id": "l_VUTrUgN_o4"
      },
      "source": [
        "# Preprocess Data\n",
        "In the <b>Q1_Dataset</b> folder you will find `TSLA.csv`, `GOOGL.csv` and `DJI.csv` files. Use Pandas lbrary to retrieve the dataset. Use only <b>Open</b> price as your input. (You will train three models for three different stocks, don't mix these data together!)"
      ]
    },
    {
      "cell_type": "code",
      "execution_count": 76,
      "metadata": {
        "id": "7NNtt9qdN_pB"
      },
      "outputs": [],
      "source": [
        "dataset = pd.read_csv(\"/content/DJI.csv\")"
      ]
    },
    {
      "cell_type": "code",
      "source": [
        "df2 = dataset['Open']\n",
        "plt.plot(df2)"
      ],
      "metadata": {
        "id": "UuftDxHGpMdi",
        "colab": {
          "base_uri": "https://localhost:8080/",
          "height": 282
        },
        "outputId": "e03428ec-d97a-4097-f2d3-97a78d312a13"
      },
      "execution_count": 77,
      "outputs": [
        {
          "output_type": "execute_result",
          "data": {
            "text/plain": [
              "[<matplotlib.lines.Line2D at 0x7f6064705b50>]"
            ]
          },
          "metadata": {},
          "execution_count": 77
        },
        {
          "output_type": "display_data",
          "data": {
            "text/plain": [
              "<Figure size 432x288 with 1 Axes>"
            ],
            "image/png": "[encoded data removed]"
          },
          "metadata": {
            "needs_background": "light"
          }
        }
      ]
    },
    {
      "cell_type": "markdown",
      "metadata": {
        "id": "NHhPPnH6N_pC"
      },
      "source": [
        "## Normalize your data\n",
        "You could use `MinMaxScaler` in `sklearn.preprocessing` to normalize the data between 0 and 1."
      ]
    },
    {
      "cell_type": "code",
      "execution_count": 78,
      "metadata": {
        "id": "VMra2c8cN_pD"
      },
      "outputs": [],
      "source": [
        "scalar = MinMaxScaler(feature_range=(0, 1))\n",
        "df1 = scalar.fit_transform(np.array(df2).reshape(-1, 1))"
      ]
    },
    {
      "cell_type": "code",
      "source": [
        "df1.shape"
      ],
      "metadata": {
        "id": "a7WmXHbqqy0H",
        "colab": {
          "base_uri": "https://localhost:8080/"
        },
        "outputId": "ed353485-146b-4afa-9c5e-837c880c76f8"
      },
      "execution_count": 79,
      "outputs": [
        {
          "output_type": "execute_result",
          "data": {
            "text/plain": [
              "(8636, 1)"
            ]
          },
          "metadata": {},
          "execution_count": 79
        }
      ]
    },
    {
      "cell_type": "markdown",
      "metadata": {
        "id": "rpKo2cRHN_pE"
      },
      "source": [
        "# Split training, validation and testing data\n",
        "<p style=\"font-size:20px\">Since you will impelement a many-to-one Recurrent Neural Network model, every input data will have shape [batch_size, num_seq, input_size] and output data will have shape [batch_size, input_size] "
      ]
    },
    {
      "cell_type": "code",
      "execution_count": 80,
      "metadata": {
        "id": "pOhiwwcFN_pG"
      },
      "outputs": [],
      "source": [
        "training_size = int(len(df1)*0.80)\n",
        "test_size = len(df1) - training_size\n",
        "train_data, test_data = df1[0: training_size, :], df1[training_size:len(df1), :1]"
      ]
    },
    {
      "cell_type": "code",
      "source": [
        "def create_dataset(dataset, time_step=1):\n",
        "  data_X, data_y = [], []\n",
        "  for i in range(len(dataset)-time_step-1):\n",
        "    temp = dataset[i:(i+time_step), 0]\n",
        "    data_X.append(temp)\n",
        "    data_y.append(dataset[i+time_step, 0])\n",
        "  \n",
        "  return np.array(data_X), np.array(data_y)\n"
      ],
      "metadata": {
        "id": "sP7RTm-Rr1wX"
      },
      "execution_count": 81,
      "outputs": []
    },
    {
      "cell_type": "code",
      "source": [
        "time_step=100\n",
        "X_train, y_train = create_dataset(train_data, time_step)\n",
        "X_test, y_test = create_dataset(test_data, time_step)"
      ],
      "metadata": {
        "id": "XzdZ_whos6mu"
      },
      "execution_count": 82,
      "outputs": []
    },
    {
      "cell_type": "code",
      "source": [
        "X_train = X_train.reshape(X_train.shape[0], X_train.shape[1], 1)\n",
        "X_test = X_test.reshape(X_test.shape[0], X_test.shape[1], 1)"
      ],
      "metadata": {
        "id": "AdJ9vTdHuClr"
      },
      "execution_count": 83,
      "outputs": []
    },
    {
      "cell_type": "code",
      "source": [
        "X_train.shape, X_test.shape"
      ],
      "metadata": {
        "id": "wjPSF0MFuWuB",
        "colab": {
          "base_uri": "https://localhost:8080/"
        },
        "outputId": "0f10ca6d-39fc-4429-f944-d135d7215198"
      },
      "execution_count": 84,
      "outputs": [
        {
          "output_type": "execute_result",
          "data": {
            "text/plain": [
              "((6807, 100, 1), (1627, 100, 1))"
            ]
          },
          "metadata": {},
          "execution_count": 84
        }
      ]
    },
    {
      "cell_type": "markdown",
      "metadata": {
        "id": "qEo_V0D5N_pH"
      },
      "source": [
        "# TesnorFlow Model"
      ]
    },
    {
      "cell_type": "code",
      "execution_count": 85,
      "metadata": {
        "id": "gIkDsulAN_pK"
      },
      "outputs": [],
      "source": [
        "from tensorflow.keras.models import Sequential\n",
        "from tensorflow.keras.layers import LSTM\n",
        "from tensorflow.keras.layers import Dense\n",
        "from tensorflow.keras.layers import Dropout"
      ]
    },
    {
      "cell_type": "code",
      "source": [
        "model = Sequential()\n",
        "\n",
        "model.add(LSTM(50, return_sequences=True, input_shape=(100,1)))\n",
        "model.add(Dropout(0.2))\n",
        "\n",
        "model.add(LSTM(50, return_sequences=True))\n",
        "model.add(Dropout(0.2))\n",
        "\n",
        "model.add(LSTM(50))\n",
        "model.add(Dropout(0.2))\n",
        "\n",
        "model.add(Dense(1))"
      ],
      "metadata": {
        "id": "5JbHeWkyu_RG"
      },
      "execution_count": 86,
      "outputs": []
    },
    {
      "cell_type": "code",
      "source": [
        "model.compile(optimizer=\"adam\", loss=\"mean_squared_error\")"
      ],
      "metadata": {
        "id": "92cter-0vgP8"
      },
      "execution_count": 87,
      "outputs": []
    },
    {
      "cell_type": "code",
      "source": [
        "model.summary()"
      ],
      "metadata": {
        "id": "CtiLbuGpvqng",
        "colab": {
          "base_uri": "https://localhost:8080/"
        },
        "outputId": "5fd4ee9b-d5fd-414c-b18e-6c9797a0a9d4"
      },
      "execution_count": 88,
      "outputs": [
        {
          "output_type": "stream",
          "name": "stdout",
          "text": [
            "Model: \"sequential_3\"\n",
            "_________________________________________________________________\n",
            " Layer (type)                Output Shape              Param #   \n",
            "=================================================================\n",
            " lstm_9 (LSTM)               (None, 100, 50)           10400     \n",
            "                                                                 \n",
            " dropout_9 (Dropout)         (None, 100, 50)           0         \n",
            "                                                                 \n",
            " lstm_10 (LSTM)              (None, 100, 50)           20200     \n",
            "                                                                 \n",
            " dropout_10 (Dropout)        (None, 100, 50)           0         \n",
            "                                                                 \n",
            " lstm_11 (LSTM)              (None, 50)                20200     \n",
            "                                                                 \n",
            " dropout_11 (Dropout)        (None, 50)                0         \n",
            "                                                                 \n",
            " dense_3 (Dense)             (None, 1)                 51        \n",
            "                                                                 \n",
            "=================================================================\n",
            "Total params: 50,851\n",
            "Trainable params: 50,851\n",
            "Non-trainable params: 0\n",
            "_________________________________________________________________\n"
          ]
        }
      ]
    },
    {
      "cell_type": "markdown",
      "metadata": {
        "id": "DkWnqasFN_pM"
      },
      "source": [
        "# Training"
      ]
    },
    {
      "cell_type": "code",
      "execution_count": 90,
      "metadata": {
        "id": "pQWriEBYN_pO",
        "colab": {
          "base_uri": "https://localhost:8080/"
        },
        "outputId": "2881c75b-e5cb-4820-e196-f644608f7ae3"
      },
      "outputs": [
        {
          "output_type": "stream",
          "name": "stdout",
          "text": [
            "Epoch 1/100\n",
            "107/107 [==============================] - 22s 207ms/step - loss: 9.0475e-04 - val_loss: 0.0022\n",
            "Epoch 2/100\n",
            "107/107 [==============================] - 21s 195ms/step - loss: 6.8428e-04 - val_loss: 0.0025\n",
            "Epoch 3/100\n",
            "107/107 [==============================] - 21s 196ms/step - loss: 5.9612e-04 - val_loss: 0.0051\n",
            "Epoch 4/100\n",
            "107/107 [==============================] - 21s 195ms/step - loss: 5.7859e-04 - val_loss: 0.0050\n",
            "Epoch 5/100\n",
            "107/107 [==============================] - 21s 192ms/step - loss: 5.1163e-04 - val_loss: 0.0011\n",
            "Epoch 6/100\n",
            "107/107 [==============================] - 21s 197ms/step - loss: 4.9549e-04 - val_loss: 0.0042\n",
            "Epoch 7/100\n",
            "107/107 [==============================] - 21s 200ms/step - loss: 4.6424e-04 - val_loss: 0.0028\n",
            "Epoch 8/100\n",
            "107/107 [==============================] - 21s 200ms/step - loss: 4.7072e-04 - val_loss: 0.0019\n",
            "Epoch 9/100\n",
            "107/107 [==============================] - 21s 200ms/step - loss: 4.2958e-04 - val_loss: 0.0011\n",
            "Epoch 10/100\n",
            "107/107 [==============================] - 21s 199ms/step - loss: 3.6330e-04 - val_loss: 8.8832e-04\n",
            "Epoch 11/100\n",
            "107/107 [==============================] - 21s 196ms/step - loss: 3.7932e-04 - val_loss: 7.3373e-04\n",
            "Epoch 12/100\n",
            "107/107 [==============================] - 21s 194ms/step - loss: 3.4237e-04 - val_loss: 0.0012\n",
            "Epoch 13/100\n",
            "107/107 [==============================] - 21s 198ms/step - loss: 3.3580e-04 - val_loss: 0.0012\n",
            "Epoch 14/100\n",
            "107/107 [==============================] - 21s 197ms/step - loss: 3.1378e-04 - val_loss: 0.0013\n",
            "Epoch 15/100\n",
            "107/107 [==============================] - 23s 212ms/step - loss: 3.0707e-04 - val_loss: 9.2073e-04\n",
            "Epoch 16/100\n",
            "107/107 [==============================] - 22s 204ms/step - loss: 3.2632e-04 - val_loss: 6.6150e-04\n",
            "Epoch 17/100\n",
            "107/107 [==============================] - 21s 199ms/step - loss: 3.0634e-04 - val_loss: 0.0012\n",
            "Epoch 18/100\n",
            "107/107 [==============================] - 21s 197ms/step - loss: 2.7956e-04 - val_loss: 0.0010\n",
            "Epoch 19/100\n",
            "107/107 [==============================] - 21s 195ms/step - loss: 2.7977e-04 - val_loss: 9.9730e-04\n",
            "Epoch 20/100\n",
            "107/107 [==============================] - 21s 193ms/step - loss: 2.5194e-04 - val_loss: 6.1120e-04\n",
            "Epoch 21/100\n",
            "107/107 [==============================] - 21s 196ms/step - loss: 2.4414e-04 - val_loss: 7.5180e-04\n",
            "Epoch 22/100\n",
            "107/107 [==============================] - 22s 201ms/step - loss: 2.4963e-04 - val_loss: 0.0015\n",
            "Epoch 23/100\n",
            "107/107 [==============================] - 21s 196ms/step - loss: 2.4437e-04 - val_loss: 7.7399e-04\n",
            "Epoch 24/100\n",
            "107/107 [==============================] - 21s 199ms/step - loss: 2.4300e-04 - val_loss: 6.0050e-04\n",
            "Epoch 25/100\n",
            "107/107 [==============================] - 21s 199ms/step - loss: 2.4601e-04 - val_loss: 0.0012\n",
            "Epoch 26/100\n",
            "107/107 [==============================] - 22s 202ms/step - loss: 2.3001e-04 - val_loss: 9.0940e-04\n",
            "Epoch 27/100\n",
            "107/107 [==============================] - 21s 195ms/step - loss: 2.2722e-04 - val_loss: 7.2179e-04\n",
            "Epoch 28/100\n",
            "107/107 [==============================] - 21s 196ms/step - loss: 2.1818e-04 - val_loss: 7.2299e-04\n",
            "Epoch 29/100\n",
            "107/107 [==============================] - 21s 195ms/step - loss: 2.1586e-04 - val_loss: 3.2317e-04\n",
            "Epoch 30/100\n",
            "107/107 [==============================] - 21s 196ms/step - loss: 2.1912e-04 - val_loss: 2.5428e-04\n",
            "Epoch 31/100\n",
            "107/107 [==============================] - 21s 195ms/step - loss: 2.2758e-04 - val_loss: 9.0440e-04\n",
            "Epoch 32/100\n",
            "107/107 [==============================] - 21s 199ms/step - loss: 2.2055e-04 - val_loss: 7.5606e-04\n",
            "Epoch 33/100\n",
            "107/107 [==============================] - 21s 200ms/step - loss: 2.1410e-04 - val_loss: 0.0011\n",
            "Epoch 34/100\n",
            "107/107 [==============================] - 21s 201ms/step - loss: 2.1662e-04 - val_loss: 4.4015e-04\n",
            "Epoch 35/100\n",
            "107/107 [==============================] - 23s 218ms/step - loss: 2.0001e-04 - val_loss: 3.3362e-04\n",
            "Epoch 36/100\n",
            "107/107 [==============================] - 21s 196ms/step - loss: 2.2545e-04 - val_loss: 0.0027\n",
            "Epoch 37/100\n",
            "107/107 [==============================] - 21s 196ms/step - loss: 2.1459e-04 - val_loss: 2.6036e-04\n",
            "Epoch 38/100\n",
            "107/107 [==============================] - 21s 198ms/step - loss: 2.1589e-04 - val_loss: 6.7752e-04\n",
            "Epoch 39/100\n",
            "107/107 [==============================] - 21s 198ms/step - loss: 2.1409e-04 - val_loss: 1.6577e-04\n",
            "Epoch 40/100\n",
            "107/107 [==============================] - 21s 198ms/step - loss: 2.0763e-04 - val_loss: 4.6139e-04\n",
            "Epoch 41/100\n",
            "107/107 [==============================] - 21s 195ms/step - loss: 1.9462e-04 - val_loss: 9.5752e-04\n",
            "Epoch 42/100\n",
            "107/107 [==============================] - 21s 199ms/step - loss: 2.0082e-04 - val_loss: 8.5473e-04\n",
            "Epoch 43/100\n",
            "107/107 [==============================] - 21s 197ms/step - loss: 2.1676e-04 - val_loss: 5.4024e-04\n",
            "Epoch 44/100\n",
            "107/107 [==============================] - 21s 196ms/step - loss: 2.0155e-04 - val_loss: 1.9000e-04\n",
            "Epoch 45/100\n",
            "107/107 [==============================] - 21s 194ms/step - loss: 1.9820e-04 - val_loss: 3.0475e-04\n",
            "Epoch 46/100\n",
            "107/107 [==============================] - 21s 198ms/step - loss: 2.0824e-04 - val_loss: 6.6537e-04\n",
            "Epoch 47/100\n",
            "107/107 [==============================] - 21s 197ms/step - loss: 2.0418e-04 - val_loss: 4.3471e-04\n",
            "Epoch 48/100\n",
            "107/107 [==============================] - 22s 203ms/step - loss: 2.0510e-04 - val_loss: 0.0013\n",
            "Epoch 49/100\n",
            "107/107 [==============================] - 21s 195ms/step - loss: 2.0813e-04 - val_loss: 3.5975e-04\n",
            "Epoch 50/100\n",
            "107/107 [==============================] - 21s 198ms/step - loss: 1.9427e-04 - val_loss: 5.6417e-04\n",
            "Epoch 51/100\n",
            "107/107 [==============================] - 21s 199ms/step - loss: 1.9517e-04 - val_loss: 1.9662e-04\n",
            "Epoch 52/100\n",
            "107/107 [==============================] - 21s 197ms/step - loss: 1.9952e-04 - val_loss: 4.7116e-04\n",
            "Epoch 53/100\n",
            "107/107 [==============================] - 23s 219ms/step - loss: 1.8872e-04 - val_loss: 2.4939e-04\n",
            "Epoch 54/100\n",
            "107/107 [==============================] - 21s 199ms/step - loss: 2.1011e-04 - val_loss: 1.7415e-04\n",
            "Epoch 55/100\n",
            "107/107 [==============================] - 20s 192ms/step - loss: 2.0501e-04 - val_loss: 1.5825e-04\n",
            "Epoch 56/100\n",
            "107/107 [==============================] - 21s 195ms/step - loss: 2.0109e-04 - val_loss: 1.4451e-04\n",
            "Epoch 57/100\n",
            "107/107 [==============================] - 21s 198ms/step - loss: 1.9812e-04 - val_loss: 1.2217e-04\n",
            "Epoch 58/100\n",
            "107/107 [==============================] - 21s 199ms/step - loss: 2.1044e-04 - val_loss: 7.6451e-04\n",
            "Epoch 59/100\n",
            "107/107 [==============================] - 21s 197ms/step - loss: 2.0566e-04 - val_loss: 0.0011\n",
            "Epoch 60/100\n",
            "107/107 [==============================] - 21s 197ms/step - loss: 1.8701e-04 - val_loss: 2.1234e-04\n",
            "Epoch 61/100\n",
            "107/107 [==============================] - 21s 199ms/step - loss: 2.0132e-04 - val_loss: 9.4007e-04\n",
            "Epoch 62/100\n",
            "107/107 [==============================] - 21s 201ms/step - loss: 1.9594e-04 - val_loss: 2.3185e-04\n",
            "Epoch 63/100\n",
            "107/107 [==============================] - 21s 198ms/step - loss: 1.9845e-04 - val_loss: 6.5124e-04\n",
            "Epoch 64/100\n",
            "107/107 [==============================] - 21s 195ms/step - loss: 1.8690e-04 - val_loss: 3.7023e-04\n",
            "Epoch 65/100\n",
            "107/107 [==============================] - 21s 201ms/step - loss: 1.8945e-04 - val_loss: 6.1545e-04\n",
            "Epoch 66/100\n",
            "107/107 [==============================] - 21s 198ms/step - loss: 1.9593e-04 - val_loss: 5.2870e-04\n",
            "Epoch 67/100\n",
            "107/107 [==============================] - 21s 200ms/step - loss: 1.9265e-04 - val_loss: 8.7278e-04\n",
            "Epoch 68/100\n",
            "107/107 [==============================] - 21s 200ms/step - loss: 1.8895e-04 - val_loss: 0.0012\n",
            "Epoch 69/100\n",
            "107/107 [==============================] - 22s 202ms/step - loss: 1.8256e-04 - val_loss: 6.0775e-04\n",
            "Epoch 70/100\n",
            "107/107 [==============================] - 21s 198ms/step - loss: 1.7890e-04 - val_loss: 6.5777e-04\n",
            "Epoch 71/100\n",
            "107/107 [==============================] - 22s 201ms/step - loss: 1.8724e-04 - val_loss: 9.2314e-04\n",
            "Epoch 72/100\n",
            "107/107 [==============================] - 24s 221ms/step - loss: 1.8624e-04 - val_loss: 0.0014\n",
            "Epoch 73/100\n",
            "107/107 [==============================] - 21s 196ms/step - loss: 1.8169e-04 - val_loss: 0.0012\n",
            "Epoch 74/100\n",
            "107/107 [==============================] - 21s 196ms/step - loss: 1.7874e-04 - val_loss: 6.0088e-04\n",
            "Epoch 75/100\n",
            "107/107 [==============================] - 21s 195ms/step - loss: 1.7747e-04 - val_loss: 0.0015\n",
            "Epoch 76/100\n",
            "107/107 [==============================] - 21s 198ms/step - loss: 1.8830e-04 - val_loss: 1.0201e-04\n",
            "Epoch 77/100\n",
            "107/107 [==============================] - 21s 197ms/step - loss: 1.8906e-04 - val_loss: 0.0014\n",
            "Epoch 78/100\n",
            "107/107 [==============================] - 21s 197ms/step - loss: 1.8648e-04 - val_loss: 3.3271e-04\n",
            "Epoch 79/100\n",
            "107/107 [==============================] - 21s 195ms/step - loss: 1.8692e-04 - val_loss: 0.0014\n",
            "Epoch 80/100\n",
            "107/107 [==============================] - 21s 196ms/step - loss: 1.8686e-04 - val_loss: 2.9409e-04\n",
            "Epoch 81/100\n",
            "107/107 [==============================] - 21s 199ms/step - loss: 1.7865e-04 - val_loss: 0.0015\n",
            "Epoch 82/100\n",
            "107/107 [==============================] - 21s 198ms/step - loss: 1.7695e-04 - val_loss: 9.6646e-04\n",
            "Epoch 83/100\n",
            "107/107 [==============================] - 22s 201ms/step - loss: 1.8505e-04 - val_loss: 7.1118e-04\n",
            "Epoch 84/100\n",
            "107/107 [==============================] - 21s 198ms/step - loss: 1.8189e-04 - val_loss: 9.0375e-04\n",
            "Epoch 85/100\n",
            "107/107 [==============================] - 21s 201ms/step - loss: 1.8800e-04 - val_loss: 1.0544e-04\n",
            "Epoch 86/100\n",
            "107/107 [==============================] - 21s 197ms/step - loss: 1.9078e-04 - val_loss: 0.0020\n",
            "Epoch 87/100\n",
            "107/107 [==============================] - 21s 196ms/step - loss: 1.7924e-04 - val_loss: 8.4795e-04\n",
            "Epoch 88/100\n",
            "107/107 [==============================] - 21s 197ms/step - loss: 1.9275e-04 - val_loss: 2.7559e-04\n",
            "Epoch 89/100\n",
            "107/107 [==============================] - 22s 203ms/step - loss: 1.8271e-04 - val_loss: 1.9742e-04\n",
            "Epoch 90/100\n",
            "107/107 [==============================] - 23s 213ms/step - loss: 1.9015e-04 - val_loss: 7.0362e-04\n",
            "Epoch 91/100\n",
            "107/107 [==============================] - 21s 198ms/step - loss: 1.7836e-04 - val_loss: 9.3170e-04\n",
            "Epoch 92/100\n",
            "107/107 [==============================] - 21s 197ms/step - loss: 1.8187e-04 - val_loss: 6.7465e-04\n",
            "Epoch 93/100\n",
            "107/107 [==============================] - 21s 198ms/step - loss: 1.8898e-04 - val_loss: 0.0017\n",
            "Epoch 94/100\n",
            "107/107 [==============================] - 21s 197ms/step - loss: 1.7456e-04 - val_loss: 8.5656e-04\n",
            "Epoch 95/100\n",
            "107/107 [==============================] - 21s 198ms/step - loss: 1.8453e-04 - val_loss: 9.8226e-05\n",
            "Epoch 96/100\n",
            "107/107 [==============================] - 21s 199ms/step - loss: 1.7441e-04 - val_loss: 7.7942e-04\n",
            "Epoch 97/100\n",
            "107/107 [==============================] - 21s 201ms/step - loss: 1.7903e-04 - val_loss: 3.8455e-04\n",
            "Epoch 98/100\n",
            "107/107 [==============================] - 22s 204ms/step - loss: 1.8098e-04 - val_loss: 0.0011\n",
            "Epoch 99/100\n",
            "107/107 [==============================] - 21s 198ms/step - loss: 1.7233e-04 - val_loss: 2.7324e-04\n",
            "Epoch 100/100\n",
            "107/107 [==============================] - 21s 198ms/step - loss: 1.7424e-04 - val_loss: 2.1479e-04\n"
          ]
        }
      ],
      "source": [
        "history=model.fit(X_train, y_train, validation_data=(X_test, y_test), epochs=100, batch_size=64, verbose=1)"
      ]
    },
    {
      "cell_type": "code",
      "source": [
        "print(history.history.keys())"
      ],
      "metadata": {
        "id": "qTGrlAtG_Ybv"
      },
      "execution_count": null,
      "outputs": []
    },
    {
      "cell_type": "code",
      "source": [
        "plt.plot(history.history['loss'])\n",
        "plt.plot(history.history['val_loss'])\n",
        "plt.title('Model Loss')\n",
        "plt.xlabel('epoch')\n",
        "plt.ylabel('Loss')\n",
        "plt.legend(['train', 'test'])\n",
        "plt.show()"
      ],
      "metadata": {
        "id": "7nJzjG1T-JHs",
        "colab": {
          "base_uri": "https://localhost:8080/",
          "height": 295
        },
        "outputId": "2aae2aa1-eec1-4688-e37a-79331c8011e6"
      },
      "execution_count": 93,
      "outputs": [
        {
          "output_type": "display_data",
          "data": {
            "text/plain": [
              "<Figure size 432x288 with 1 Axes>"
            ],
            "image/png": "[encoded data removed]"
          },
          "metadata": {
            "needs_background": "light"
          }
        }
      ]
    },
    {
      "cell_type": "markdown",
      "metadata": {
        "id": "SJ7DKy3YN_pP"
      },
      "source": [
        "# Testing"
      ]
    },
    {
      "cell_type": "code",
      "execution_count": 94,
      "metadata": {
        "id": "Glce2_ruN_pQ",
        "colab": {
          "base_uri": "https://localhost:8080/"
        },
        "outputId": "ad0950d9-28e9-4f7f-e39f-6231e02e8a1c"
      },
      "outputs": [
        {
          "output_type": "stream",
          "name": "stdout",
          "text": [
            "51/51 [==============================] - 2s 35ms/step - loss: 2.1479e-04\n"
          ]
        },
        {
          "output_type": "execute_result",
          "data": {
            "text/plain": [
              "0.00021479403949342668"
            ]
          },
          "metadata": {},
          "execution_count": 94
        }
      ],
      "source": [
        "model.evaluate(X_test, y_test)"
      ]
    },
    {
      "cell_type": "markdown",
      "source": [
        "**Plotting 100 days predictions**"
      ],
      "metadata": {
        "id": "p4HXKjBD5H9-"
      }
    },
    {
      "cell_type": "code",
      "source": [
        "# Prediction vectors\n",
        "train_predict = model.predict(X_train)\n",
        "test_predict = model.predict(X_test)"
      ],
      "metadata": {
        "id": "RB3Ulb285xvQ",
        "colab": {
          "base_uri": "https://localhost:8080/"
        },
        "outputId": "7514cc82-203d-4649-a087-ee3eda44c100"
      },
      "execution_count": 95,
      "outputs": [
        {
          "output_type": "stream",
          "name": "stdout",
          "text": [
            "213/213 [==============================] - 9s 35ms/step\n",
            "51/51 [==============================] - 2s 36ms/step\n"
          ]
        }
      ]
    },
    {
      "cell_type": "code",
      "source": [
        "# Transformation to original values\n",
        "train_predict = scalar.inverse_transform(train_predict)\n",
        "test_predict = scalar.inverse_transform(test_predict)"
      ],
      "metadata": {
        "id": "beewWnWX6F0n"
      },
      "execution_count": 96,
      "outputs": []
    },
    {
      "cell_type": "code",
      "source": [
        "look_back=100\n",
        "# Shift Train predictions for plotting\n",
        "trainPredictPlot = np.empty_like(df1)\n",
        "trainPredictPlot[:, :] = np.nan\n",
        "trainPredictPlot[look_back:len(train_predict)+look_back, :] = train_predict\n",
        "\n",
        "# Shift test predictions for plotting\n",
        "testPredictPlot = np.empty_like(df1)\n",
        "testPredictPlot[:, :] = np.nan\n",
        "testPredictPlot[len(train_predict)+(look_back*2)+1: len(df1)-1, :] = test_predict\n",
        "\n",
        "# Plot baseline and predictions\n",
        "plt.title(\"Dow Jones Industrial Average Index Predictions\")\n",
        "plt.plot(scalar.inverse_transform(df1))\n",
        "plt.plot(trainPredictPlot)\n",
        "plt.plot(testPredictPlot)\n",
        "plt.xlabel(\"Days\")\n",
        "plt.ylabel(\"Price\")\n",
        "plt.legend([\"Ground Truth\", \"Train Predict\", \"Test Predict\"])\n",
        "plt.show()"
      ],
      "metadata": {
        "id": "dG3iQYCo4ynB",
        "colab": {
          "base_uri": "https://localhost:8080/",
          "height": 295
        },
        "outputId": "fadeb8cd-56ee-4d38-94c2-5c58a3be3860"
      },
      "execution_count": 98,
      "outputs": [
        {
          "output_type": "display_data",
          "data": {
            "text/plain": [
              "<Figure size 432x288 with 1 Axes>"
            ],
            "image/png": "[encoded data removed]"
          },
          "metadata": {
            "needs_background": "light"
          }
        }
      ]
    }
  ],
  "metadata": {
    "kernelspec": {
      "display_name": "Python 3.9.5 64-bit",
      "language": "python",
      "name": "python3"
    },
    "language_info": {
      "codemirror_mode": {
        "name": "ipython",
        "version": 3
      },
      "file_extension": ".py",
      "mimetype": "text/x-python",
      "name": "python",
      "nbconvert_exporter": "python",
      "pygments_lexer": "ipython3",
      "version": "3.9.5"
    },
    "vscode": {
      "interpreter": {
        "hash": "ab211c0c45611307628bb81213e03404cf9aef8a6343797c64ada89c4c42d0a0"
      }
    },
    "colab": {
      "provenance": [],
      "toc_visible": true,
      "include_colab_link": true
    }
  },
  "nbformat": 4,
  "nbformat_minor": 0
}